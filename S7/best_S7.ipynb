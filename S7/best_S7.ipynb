{
  "nbformat": 4,
  "nbformat_minor": 0,
  "metadata": {
    "kernelspec": {
      "name": "python3",
      "display_name": "Python 3"
    },
    "language_info": {
      "codemirror_mode": {
        "name": "ipython",
        "version": 3
      },
      "file_extension": ".py",
      "mimetype": "text/x-python",
      "name": "python",
      "nbconvert_exporter": "python",
      "pygments_lexer": "ipython3",
      "version": "3.6.6"
    },
    "colab": {
      "name": "Copy of S7.ipynb",
      "provenance": [],
      "collapsed_sections": [],
      "include_colab_link": true
    },
    "accelerator": "GPU"
  },
  "cells": [
    {
      "cell_type": "markdown",
      "metadata": {
        "id": "view-in-github",
        "colab_type": "text"
      },
      "source": [
        "<a href=\"https://colab.research.google.com/github/Shakil-1501/AI/blob/master/S7/best_S7.ipynb\" target=\"_parent\"><img src=\"https://colab.research.google.com/assets/colab-badge.svg\" alt=\"Open In Colab\"/></a>"
      ]
    },
    {
      "cell_type": "code",
      "metadata": {
        "id": "QVbdg0z4poCc",
        "colab_type": "code",
        "colab": {}
      },
      "source": [
        "%matplotlib inline"
      ],
      "execution_count": 0,
      "outputs": []
    },
    {
      "cell_type": "markdown",
      "metadata": {
        "id": "fPogbueepoCh",
        "colab_type": "text"
      },
      "source": [
        "\n",
        "Training a Classifier\n",
        "=====================\n",
        "\n",
        "This is it. You have seen how to define neural networks, compute loss and make\n",
        "updates to the weights of the network.\n",
        "\n",
        "Now you might be thinking,\n",
        "\n",
        "What about data?\n",
        "----------------\n",
        "\n",
        "Generally, when you have to deal with image, text, audio or video data,\n",
        "you can use standard python packages that load data into a numpy array.\n",
        "Then you can convert this array into a ``torch.*Tensor``.\n",
        "\n",
        "-  For images, packages such as Pillow, OpenCV are useful\n",
        "-  For audio, packages such as scipy and librosa\n",
        "-  For text, either raw Python or Cython based loading, or NLTK and\n",
        "   SpaCy are useful\n",
        "\n",
        "Specifically for vision, we have created a package called\n",
        "``torchvision``, that has data loaders for common datasets such as\n",
        "Imagenet, CIFAR10, MNIST, etc. and data transformers for images, viz.,\n",
        "``torchvision.datasets`` and ``torch.utils.data.DataLoader``.\n",
        "\n",
        "This provides a huge convenience and avoids writing boilerplate code.\n",
        "\n",
        "For this tutorial, we will use the CIFAR10 dataset.\n",
        "It has the classes: ‘airplane’, ‘automobile’, ‘bird’, ‘cat’, ‘deer’,\n",
        "‘dog’, ‘frog’, ‘horse’, ‘ship’, ‘truck’. The images in CIFAR-10 are of\n",
        "size 3x32x32, i.e. 3-channel color images of 32x32 pixels in size.\n",
        "\n",
        ".. figure:: /_static/img/cifar10.png\n",
        "   :alt: cifar10\n",
        "\n",
        "   cifar10\n",
        "\n",
        "\n",
        "Training an image classifier\n",
        "----------------------------\n",
        "\n",
        "We will do the following steps in order:\n",
        "\n",
        "1. Load and normalizing the CIFAR10 training and test datasets using\n",
        "   ``torchvision``\n",
        "2. Define a Convolution Neural Network\n",
        "3. Define a loss function\n",
        "4. Train the network on the training data\n",
        "5. Test the network on the test data\n",
        "\n",
        "1. Loading and normalizing CIFAR10\n",
        "^^^^^^^^^^^^^^^^^^^^^^^^^^^^^^^^^^\n",
        "\n",
        "Using ``torchvision``, it’s extremely easy to load CIFAR10.\n",
        "\n"
      ]
    },
    {
      "cell_type": "code",
      "metadata": {
        "id": "-yVpodAMpoCi",
        "colab_type": "code",
        "colab": {}
      },
      "source": [
        "import torch\n",
        "import torchvision\n",
        "import torchvision.transforms as transforms"
      ],
      "execution_count": 0,
      "outputs": []
    },
    {
      "cell_type": "markdown",
      "metadata": {
        "id": "5kjt4e2TpoCk",
        "colab_type": "text"
      },
      "source": [
        "The output of torchvision datasets are PILImage images of range [0, 1].\n",
        "We transform them to Tensors of normalized range [-1, 1].\n",
        "\n"
      ]
    },
    {
      "cell_type": "code",
      "metadata": {
        "id": "D8Tjigo2poCl",
        "colab_type": "code",
        "outputId": "c0592013-3c48-4a3e-dde5-ee668ddbf0c2",
        "colab": {
          "base_uri": "https://localhost:8080/",
          "height": 51
        }
      },
      "source": [
        "# Applying various image augmentation techniques like RandomHorizontalFlip,RandomCrop and ColorJitter\n",
        "transform = transforms.Compose(\n",
        "    [transforms.ToTensor(),\n",
        "     transforms.Normalize((0.5, 0.5, 0.5), (0.5, 0.5, 0.5))])\n",
        "train_transform = transforms.Compose( [transforms.RandomHorizontalFlip(p=0.5),\n",
        "                                       transforms.RandomCrop(32, padding=2),\n",
        "                                       #transforms.RandomErasing(),\n",
        "                                       transforms.ColorJitter(brightness=0.1, contrast=0.1,saturation=0.1,hue=0.1),\n",
        "                                       transforms.ToTensor(),\n",
        "                                       transforms.Normalize((0.5, 0.5, 0.5), (0.5, 0.5, 0.5))])\n",
        "\n",
        "trainset = torchvision.datasets.CIFAR10(root='./data', train=True,\n",
        "                                        download=True, transform=train_transform)\n",
        "trainloader = torch.utils.data.DataLoader(trainset, batch_size=4,\n",
        "                                          shuffle=True,num_workers=4, pin_memory=True)\n",
        "\n",
        "testset = torchvision.datasets.CIFAR10(root='./data', train=False,\n",
        "                                       download=True, transform=transform)\n",
        "testloader = torch.utils.data.DataLoader(testset, batch_size=4,\n",
        "                                         shuffle=False, num_workers=4, pin_memory=True)\n",
        "\n",
        "classes = ('plane', 'car', 'bird', 'cat',\n",
        "           'deer', 'dog', 'frog', 'horse', 'ship', 'truck')"
      ],
      "execution_count": 48,
      "outputs": [
        {
          "output_type": "stream",
          "text": [
            "Files already downloaded and verified\n",
            "Files already downloaded and verified\n"
          ],
          "name": "stdout"
        }
      ]
    },
    {
      "cell_type": "markdown",
      "metadata": {
        "id": "_cj433rtpoCn",
        "colab_type": "text"
      },
      "source": [
        "Let us show some of the training images, for fun.\n",
        "\n"
      ]
    },
    {
      "cell_type": "code",
      "metadata": {
        "id": "daA7bADhpoCo",
        "colab_type": "code",
        "outputId": "17575c36-2611-482b-8e3f-2cdf56fd1af4",
        "colab": {
          "base_uri": "https://localhost:8080/",
          "height": 155
        }
      },
      "source": [
        "import matplotlib.pyplot as plt\n",
        "import numpy as np\n",
        "\n",
        "# functions to show an image\n",
        "\n",
        "\n",
        "def imshow(img):\n",
        "    img = img / 2 + 0.5     # unnormalize\n",
        "    npimg = img.numpy()\n",
        "    plt.imshow(np.transpose(npimg, (1, 2, 0)))\n",
        "\n",
        "\n",
        "# get some random training images\n",
        "dataiter = iter(trainloader)\n",
        "images, labels = dataiter.next()\n",
        "\n",
        "# show images\n",
        "imshow(torchvision.utils.make_grid(images))\n",
        "# print labels\n",
        "print(' '.join('%5s' % classes[labels[j]] for j in range(4)))"
      ],
      "execution_count": 49,
      "outputs": [
        {
          "output_type": "stream",
          "text": [
            "  cat   cat  ship  ship\n"
          ],
          "name": "stdout"
        },
        {
          "output_type": "display_data",
          "data": {
            "image/png": "[encoded data removed]",
            "text/plain": [
              "<Figure size 432x288 with 1 Axes>"
            ]
          },
          "metadata": {
            "tags": [],
            "needs_background": "light"
          }
        }
      ]
    },
    {
      "cell_type": "markdown",
      "metadata": {
        "id": "28OpHA_LpoCq",
        "colab_type": "text"
      },
      "source": [
        "2. Define a Convolution Neural Network\n",
        "^^^^^^^^^^^^^^^^^^^^^^^^^^^^^^^^^^^^^^\n",
        "Copy the neural network from the Neural Networks section before and modify it to\n",
        "take 3-channel images (instead of 1-channel images as it was defined).\n",
        "\n"
      ]
    },
    {
      "cell_type": "code",
      "metadata": {
        "id": "0jjLwLLQpoCr",
        "colab_type": "code",
        "colab": {}
      },
      "source": [
        "import torch.nn as nn\n",
        "import torch.nn.functional as F\n",
        "\n",
        "\n",
        "class Net(nn.Module):\n",
        "    def __init__(self):\n",
        "        super(Net, self).__init__()\n",
        "        #self.conv1 = nn.Conv2d(3, 6, 5)\n",
        "        #self.pool = nn.MaxPool2d(2, 2)\n",
        "        #self.conv2 = nn.Conv2d(6, 16, 5)\n",
        "        #self.fc1 = nn.Linear(16 * 5 * 5, 120)\n",
        "        #self.fc2 = nn.Linear(120, 84)\n",
        "        #self.fc3 = nn.Linear(84, 10)\n",
        "        self.conv1 = nn.Sequential(nn.Conv2d(3, 80, 3,padding=2), # input image size =32*32,output image size= 32*32 , RF=4\n",
        "                                   nn.ReLU(),\n",
        "                                   nn.BatchNorm2d(num_features=80)\n",
        "\n",
        "                                   )\n",
        "        self.conv5 = nn.Sequential(nn.Conv2d(80, 160, 3,padding=1,groups=80),\n",
        "                                   nn.ReLU(),\n",
        "                                   nn.BatchNorm2d(num_features=160)\n",
        "        )\n",
        "                                   \n",
        "        \n",
        "        self.pool1 = nn.MaxPool2d(2,2) #input image size =32*32,output image size= 16*16 , RF=5\n",
        "        self.conv2 = nn.Sequential(nn.Conv2d(160,320,3,padding=2,groups=160), #input image size =16*16,output image size= 16*16 , RF=9\n",
        "                                   nn.ReLU(),\n",
        "                                   nn.BatchNorm2d(num_features=320),\n",
        "                                   nn.Dropout(0.03)\n",
        "                                   )\n",
        "        self.pool2 = nn.MaxPool2d(2,2) #input image size =16*16,output image size= 8*8 , RF=11\n",
        "        self.conv3 = nn.Sequential(nn.Conv2d(320,330,3,padding=2,dilation=2), #input image size =8*8,output image size= 14*14 , RF=19\n",
        "                                   nn.ReLU(),\n",
        "                                   nn.BatchNorm2d(num_features=330),\n",
        "                                   nn.Dropout(0.03)\n",
        "\n",
        "                                   )\n",
        "        self.pool3 = nn.MaxPool2d(2,2) #input image size =14*14,output image size= 7*7 , RF=23\n",
        "        self.conv4 = nn.Sequential(nn.Conv2d(330,10,3,padding=1) #input image size =7*7,output image size= 5*5 , RF=39\n",
        "\n",
        "        )\n",
        "        # Appling GAP at the output layer\n",
        "        self.gap  =  nn.Sequential(nn.AvgPool2d(kernel_size=4)) #input image size =5*5,output image size= 1*1 , RF=71\n",
        "        \n",
        "\n",
        "        \n",
        "\n",
        "    def forward(self, x):\n",
        "        #x = self.pool(F.relu(self.conv1(x)))\n",
        "        #x = self.pool(F.relu(self.conv2(x)))\n",
        "        #x = x.view(-1, 16 * 5 * 5)\n",
        "        #x = F.relu(self.fc1(x))\n",
        "        #x = F.relu(self.fc2(x))\n",
        "        #x = self.fc3(x)\n",
        "        #return x\n",
        "        x = self.conv1(x)\n",
        "        x = self.conv5(x)\n",
        "        x = self.pool1(x)\n",
        "        x= self.conv2(x)\n",
        "        x = self.pool2(x)\n",
        "        x= self.conv3(x)\n",
        "        x=self.pool3(x)\n",
        "        x = self.conv4(x)\n",
        "        x = self.gap(x)\n",
        "        x = x.view(-1, 10)\n",
        "        return F.log_softmax(x)\n",
        "\n",
        "\n",
        "#net = Net().to(device)"
      ],
      "execution_count": 0,
      "outputs": []
    },
    {
      "cell_type": "markdown",
      "metadata": {
        "id": "Wdw2NNCUpoCu",
        "colab_type": "text"
      },
      "source": [
        "3. Define a Loss function and optimizer\n",
        "^^^^^^^^^^^^^^^^^^^^^^^^^^^^^^^^^^^^^^^\n",
        "Let's use a Classification Cross-Entropy loss and SGD with momentum.\n",
        "\n"
      ]
    },
    {
      "cell_type": "code",
      "metadata": {
        "id": "Mb3sVSMRSsiW",
        "colab_type": "code",
        "outputId": "2d3bc1e0-ce00-47d4-e986-7d649d9de7d7",
        "colab": {
          "base_uri": "https://localhost:8080/",
          "height": 615
        }
      },
      "source": [
        "!pip install torchsummary\n",
        "from torchsummary import summary\n",
        "use_cuda = torch.cuda.is_available()\n",
        "device = torch.device(\"cuda\" if use_cuda else \"cpu\")\n",
        "net = Net().to(device)\n",
        "summary(net, input_size=(3, 32, 32))"
      ],
      "execution_count": 52,
      "outputs": [
        {
          "output_type": "stream",
          "text": [
            "Requirement already satisfied: torchsummary in /usr/local/lib/python3.6/dist-packages (1.5.1)\n",
            "----------------------------------------------------------------\n",
            "        Layer (type)               Output Shape         Param #\n",
            "================================================================\n",
            "            Conv2d-1           [-1, 80, 34, 34]           2,240\n",
            "              ReLU-2           [-1, 80, 34, 34]               0\n",
            "       BatchNorm2d-3           [-1, 80, 34, 34]             160\n",
            "            Conv2d-4          [-1, 160, 34, 34]           1,600\n",
            "              ReLU-5          [-1, 160, 34, 34]               0\n",
            "       BatchNorm2d-6          [-1, 160, 34, 34]             320\n",
            "         MaxPool2d-7          [-1, 160, 17, 17]               0\n",
            "            Conv2d-8          [-1, 320, 19, 19]           3,200\n",
            "              ReLU-9          [-1, 320, 19, 19]               0\n",
            "      BatchNorm2d-10          [-1, 320, 19, 19]             640\n",
            "          Dropout-11          [-1, 320, 19, 19]               0\n",
            "        MaxPool2d-12            [-1, 320, 9, 9]               0\n",
            "           Conv2d-13            [-1, 330, 9, 9]         950,730\n",
            "             ReLU-14            [-1, 330, 9, 9]               0\n",
            "      BatchNorm2d-15            [-1, 330, 9, 9]             660\n",
            "          Dropout-16            [-1, 330, 9, 9]               0\n",
            "        MaxPool2d-17            [-1, 330, 4, 4]               0\n",
            "           Conv2d-18             [-1, 10, 4, 4]          29,710\n",
            "        AvgPool2d-19             [-1, 10, 1, 1]               0\n",
            "================================================================\n",
            "Total params: 989,260\n",
            "Trainable params: 989,260\n",
            "Non-trainable params: 0\n",
            "----------------------------------------------------------------\n",
            "Input size (MB): 0.01\n",
            "Forward/backward pass size (MB): 11.28\n",
            "Params size (MB): 3.77\n",
            "Estimated Total Size (MB): 15.07\n",
            "----------------------------------------------------------------\n"
          ],
          "name": "stdout"
        },
        {
          "output_type": "stream",
          "text": [
            "/usr/local/lib/python3.6/dist-packages/ipykernel_launcher.py:66: UserWarning: Implicit dimension choice for log_softmax has been deprecated. Change the call to include dim=X as an argument.\n"
          ],
          "name": "stderr"
        }
      ]
    },
    {
      "cell_type": "code",
      "metadata": {
        "id": "M4xBbDROpoCv",
        "colab_type": "code",
        "colab": {}
      },
      "source": [
        "import torch.optim as optim\n",
        "from torch.optim.lr_scheduler import StepLR\n",
        "\n",
        "criterion = nn.CrossEntropyLoss()\n",
        "optimizer = optim.SGD(net.parameters(), lr=0.001, momentum=0.9,weight_decay=0.001) # Applying L2 regularization\n",
        "scheduler= StepLR(optimizer,step_size=5,gamma=0.1) # Applying LR schedular"
      ],
      "execution_count": 0,
      "outputs": []
    },
    {
      "cell_type": "markdown",
      "metadata": {
        "id": "O-odOrhdpoC2",
        "colab_type": "text"
      },
      "source": [
        "4. Train the network\n",
        "^^^^^^^^^^^^^^^^^^^^\n",
        "\n",
        "This is when things start to get interesting.\n",
        "We simply have to loop over our data iterator, and feed the inputs to the\n",
        "network and optimize.\n",
        "\n"
      ]
    },
    {
      "cell_type": "code",
      "metadata": {
        "id": "kkuRfo1IpoC3",
        "colab_type": "code",
        "outputId": "03c60439-5d84-4601-b472-e348969efc7f",
        "colab": {
          "base_uri": "https://localhost:8080/",
          "height": 1000
        }
      },
      "source": [
        "for epoch in range(30):  # loop over the dataset multiple times\n",
        "\n",
        "    running_loss = 0.0\n",
        "    for i, data in enumerate(trainloader, 0):\n",
        "        # get the inputs\n",
        "        inputs, labels = data[0].to(device),data[1].to(device)\n",
        "\n",
        "        # zero the parameter gradients\n",
        "        optimizer.zero_grad()\n",
        "\n",
        "        # forward + backward + optimize\n",
        "        outputs = net(inputs)\n",
        "        loss = criterion(outputs, labels)\n",
        "        loss.backward()\n",
        "        optimizer.step()\n",
        "\n",
        "        # print statistics\n",
        "        running_loss += loss.item()\n",
        "        if i % 2000 == 1999:    # print every 2000 mini-batches\n",
        "            print('[%d, %5d] loss: %.3f' %\n",
        "                  (epoch + 1, i + 1, running_loss / 2000))\n",
        "            running_loss = 0.0\n",
        "\n",
        "print('Finished Training')"
      ],
      "execution_count": 54,
      "outputs": [
        {
          "output_type": "stream",
          "text": [
            "/usr/local/lib/python3.6/dist-packages/ipykernel_launcher.py:66: UserWarning: Implicit dimension choice for log_softmax has been deprecated. Change the call to include dim=X as an argument.\n"
          ],
          "name": "stderr"
        },
        {
          "output_type": "stream",
          "text": [
            "[1,  2000] loss: 1.680\n",
            "[1,  4000] loss: 1.363\n",
            "[1,  6000] loss: 1.236\n",
            "[1,  8000] loss: 1.124\n",
            "[1, 10000] loss: 1.064\n",
            "[1, 12000] loss: 1.041\n",
            "[2,  2000] loss: 0.954\n",
            "[2,  4000] loss: 0.939\n",
            "[2,  6000] loss: 0.931\n",
            "[2,  8000] loss: 0.886\n",
            "[2, 10000] loss: 0.880\n",
            "[2, 12000] loss: 0.892\n",
            "[3,  2000] loss: 0.806\n",
            "[3,  4000] loss: 0.817\n",
            "[3,  6000] loss: 0.832\n",
            "[3,  8000] loss: 0.780\n",
            "[3, 10000] loss: 0.793\n",
            "[3, 12000] loss: 0.788\n",
            "[4,  2000] loss: 0.721\n",
            "[4,  4000] loss: 0.732\n",
            "[4,  6000] loss: 0.738\n",
            "[4,  8000] loss: 0.738\n",
            "[4, 10000] loss: 0.728\n",
            "[4, 12000] loss: 0.712\n",
            "[5,  2000] loss: 0.693\n",
            "[5,  4000] loss: 0.689\n",
            "[5,  6000] loss: 0.691\n",
            "[5,  8000] loss: 0.673\n",
            "[5, 10000] loss: 0.693\n",
            "[5, 12000] loss: 0.693\n",
            "[6,  2000] loss: 0.659\n",
            "[6,  4000] loss: 0.658\n",
            "[6,  6000] loss: 0.648\n",
            "[6,  8000] loss: 0.684\n",
            "[6, 10000] loss: 0.666\n",
            "[6, 12000] loss: 0.692\n",
            "[7,  2000] loss: 0.643\n",
            "[7,  4000] loss: 0.644\n",
            "[7,  6000] loss: 0.653\n",
            "[7,  8000] loss: 0.661\n",
            "[7, 10000] loss: 0.641\n",
            "[7, 12000] loss: 0.663\n",
            "[8,  2000] loss: 0.601\n",
            "[8,  4000] loss: 0.644\n",
            "[8,  6000] loss: 0.628\n",
            "[8,  8000] loss: 0.622\n",
            "[8, 10000] loss: 0.644\n",
            "[8, 12000] loss: 0.639\n",
            "[9,  2000] loss: 0.592\n",
            "[9,  4000] loss: 0.615\n",
            "[9,  6000] loss: 0.621\n",
            "[9,  8000] loss: 0.624\n",
            "[9, 10000] loss: 0.614\n",
            "[9, 12000] loss: 0.627\n",
            "[10,  2000] loss: 0.581\n",
            "[10,  4000] loss: 0.590\n",
            "[10,  6000] loss: 0.592\n",
            "[10,  8000] loss: 0.611\n",
            "[10, 10000] loss: 0.633\n",
            "[10, 12000] loss: 0.617\n",
            "[11,  2000] loss: 0.585\n",
            "[11,  4000] loss: 0.603\n",
            "[11,  6000] loss: 0.593\n",
            "[11,  8000] loss: 0.594\n",
            "[11, 10000] loss: 0.609\n",
            "[11, 12000] loss: 0.597\n",
            "[12,  2000] loss: 0.559\n",
            "[12,  4000] loss: 0.598\n",
            "[12,  6000] loss: 0.581\n",
            "[12,  8000] loss: 0.586\n",
            "[12, 10000] loss: 0.586\n",
            "[12, 12000] loss: 0.606\n",
            "[13,  2000] loss: 0.586\n",
            "[13,  4000] loss: 0.591\n",
            "[13,  6000] loss: 0.564\n",
            "[13,  8000] loss: 0.569\n",
            "[13, 10000] loss: 0.589\n",
            "[13, 12000] loss: 0.608\n",
            "[14,  2000] loss: 0.572\n",
            "[14,  4000] loss: 0.574\n",
            "[14,  6000] loss: 0.577\n",
            "[14,  8000] loss: 0.565\n",
            "[14, 10000] loss: 0.572\n",
            "[14, 12000] loss: 0.567\n",
            "[15,  2000] loss: 0.563\n",
            "[15,  4000] loss: 0.550\n",
            "[15,  6000] loss: 0.585\n",
            "[15,  8000] loss: 0.583\n",
            "[15, 10000] loss: 0.559\n",
            "[15, 12000] loss: 0.588\n",
            "[16,  2000] loss: 0.550\n",
            "[16,  4000] loss: 0.551\n",
            "[16,  6000] loss: 0.570\n",
            "[16,  8000] loss: 0.552\n",
            "[16, 10000] loss: 0.567\n",
            "[16, 12000] loss: 0.588\n",
            "[17,  2000] loss: 0.558\n",
            "[17,  4000] loss: 0.553\n",
            "[17,  6000] loss: 0.569\n",
            "[17,  8000] loss: 0.566\n",
            "[17, 10000] loss: 0.574\n",
            "[17, 12000] loss: 0.562\n",
            "[18,  2000] loss: 0.550\n",
            "[18,  4000] loss: 0.567\n",
            "[18,  6000] loss: 0.552\n",
            "[18,  8000] loss: 0.552\n",
            "[18, 10000] loss: 0.567\n",
            "[18, 12000] loss: 0.583\n",
            "[19,  2000] loss: 0.537\n",
            "[19,  4000] loss: 0.540\n",
            "[19,  6000] loss: 0.569\n",
            "[19,  8000] loss: 0.553\n",
            "[19, 10000] loss: 0.580\n",
            "[19, 12000] loss: 0.584\n",
            "[20,  2000] loss: 0.543\n",
            "[20,  4000] loss: 0.550\n",
            "[20,  6000] loss: 0.547\n",
            "[20,  8000] loss: 0.569\n",
            "[20, 10000] loss: 0.565\n",
            "[20, 12000] loss: 0.579\n",
            "[21,  2000] loss: 0.522\n",
            "[21,  4000] loss: 0.551\n",
            "[21,  6000] loss: 0.556\n",
            "[21,  8000] loss: 0.548\n",
            "[21, 10000] loss: 0.565\n",
            "[21, 12000] loss: 0.566\n",
            "[22,  2000] loss: 0.524\n",
            "[22,  4000] loss: 0.547\n",
            "[22,  6000] loss: 0.555\n",
            "[22,  8000] loss: 0.552\n",
            "[22, 10000] loss: 0.550\n",
            "[22, 12000] loss: 0.540\n",
            "[23,  2000] loss: 0.516\n",
            "[23,  4000] loss: 0.521\n",
            "[23,  6000] loss: 0.540\n",
            "[23,  8000] loss: 0.554\n",
            "[23, 10000] loss: 0.546\n",
            "[23, 12000] loss: 0.563\n",
            "[24,  2000] loss: 0.530\n",
            "[24,  4000] loss: 0.542\n",
            "[24,  6000] loss: 0.546\n",
            "[24,  8000] loss: 0.560\n",
            "[24, 10000] loss: 0.555\n",
            "[24, 12000] loss: 0.530\n",
            "[25,  2000] loss: 0.513\n",
            "[25,  4000] loss: 0.519\n",
            "[25,  6000] loss: 0.532\n",
            "[25,  8000] loss: 0.557\n",
            "[25, 10000] loss: 0.546\n",
            "[25, 12000] loss: 0.556\n",
            "[26,  2000] loss: 0.512\n",
            "[26,  4000] loss: 0.534\n",
            "[26,  6000] loss: 0.543\n",
            "[26,  8000] loss: 0.544\n",
            "[26, 10000] loss: 0.551\n",
            "[26, 12000] loss: 0.582\n",
            "[27,  2000] loss: 0.530\n",
            "[27,  4000] loss: 0.542\n",
            "[27,  6000] loss: 0.541\n",
            "[27,  8000] loss: 0.538\n",
            "[27, 10000] loss: 0.535\n",
            "[27, 12000] loss: 0.544\n",
            "[28,  2000] loss: 0.525\n",
            "[28,  4000] loss: 0.520\n",
            "[28,  6000] loss: 0.533\n",
            "[28,  8000] loss: 0.523\n",
            "[28, 10000] loss: 0.538\n",
            "[28, 12000] loss: 0.555\n",
            "[29,  2000] loss: 0.526\n",
            "[29,  4000] loss: 0.547\n",
            "[29,  6000] loss: 0.557\n",
            "[29,  8000] loss: 0.555\n",
            "[29, 10000] loss: 0.531\n",
            "[29, 12000] loss: 0.533\n",
            "[30,  2000] loss: 0.511\n",
            "[30,  4000] loss: 0.528\n",
            "[30,  6000] loss: 0.526\n",
            "[30,  8000] loss: 0.541\n",
            "[30, 10000] loss: 0.537\n",
            "[30, 12000] loss: 0.532\n",
            "Finished Training\n"
          ],
          "name": "stdout"
        }
      ]
    },
    {
      "cell_type": "markdown",
      "metadata": {
        "id": "YLrvL_fHpoC5",
        "colab_type": "text"
      },
      "source": [
        "5. Test the network on the test data\n",
        "^^^^^^^^^^^^^^^^^^^^^^^^^^^^^^^^^^^^\n",
        "\n",
        "We have trained the network for 2 passes over the training dataset.\n",
        "But we need to check if the network has learnt anything at all.\n",
        "\n",
        "We will check this by predicting the class label that the neural network\n",
        "outputs, and checking it against the ground-truth. If the prediction is\n",
        "correct, we add the sample to the list of correct predictions.\n",
        "\n",
        "Okay, first step. Let us display an image from the test set to get familiar.\n",
        "\n"
      ]
    },
    {
      "cell_type": "code",
      "metadata": {
        "id": "nizbsvw9poC6",
        "colab_type": "code",
        "outputId": "f5590b0b-9d7a-44cb-e671-7779403bf8a4",
        "colab": {
          "base_uri": "https://localhost:8080/",
          "height": 155
        }
      },
      "source": [
        "dataiter = iter(testloader)\n",
        "images, labels = dataiter.next()\n",
        "\n",
        "# print images\n",
        "imshow(torchvision.utils.make_grid(images))\n",
        "print('GroundTruth: ', ' '.join('%5s' % classes[labels[j]] for j in range(4)))"
      ],
      "execution_count": 55,
      "outputs": [
        {
          "output_type": "stream",
          "text": [
            "GroundTruth:    cat  ship  ship plane\n"
          ],
          "name": "stdout"
        },
        {
          "output_type": "display_data",
          "data": {
            "image/png": "[encoded data removed]",
            "text/plain": [
              "<Figure size 432x288 with 1 Axes>"
            ]
          },
          "metadata": {
            "tags": [],
            "needs_background": "light"
          }
        }
      ]
    },
    {
      "cell_type": "markdown",
      "metadata": {
        "id": "DAx4QPHVpoC8",
        "colab_type": "text"
      },
      "source": [
        "Okay, now let us see what the neural network thinks these examples above are:\n",
        "\n"
      ]
    },
    {
      "cell_type": "code",
      "metadata": {
        "id": "HVLjlssWpoC9",
        "colab_type": "code",
        "colab": {}
      },
      "source": [
        "outputs = net(images)"
      ],
      "execution_count": 0,
      "outputs": []
    },
    {
      "cell_type": "markdown",
      "metadata": {
        "id": "u8OTHZEApoC_",
        "colab_type": "text"
      },
      "source": [
        "The outputs are energies for the 10 classes.\n",
        "Higher the energy for a class, the more the network\n",
        "thinks that the image is of the particular class.\n",
        "So, let's get the index of the highest energy:\n",
        "\n"
      ]
    },
    {
      "cell_type": "code",
      "metadata": {
        "id": "ABRIDW3lpoDA",
        "colab_type": "code",
        "colab": {}
      },
      "source": [
        "_, predicted = torch.max(outputs, 1)\n",
        "\n",
        "print('Predicted: ', ' '.join('%5s' % classes[predicted[j]]\n",
        "                              for j in range(4)))"
      ],
      "execution_count": 0,
      "outputs": []
    },
    {
      "cell_type": "markdown",
      "metadata": {
        "id": "2TV0TXL1poDC",
        "colab_type": "text"
      },
      "source": [
        "The results seem pretty good.\n",
        "\n",
        "Let us look at how the network performs on the whole dataset.\n",
        "\n"
      ]
    },
    {
      "cell_type": "code",
      "metadata": {
        "id": "SZ4-5CESpoDD",
        "colab_type": "code",
        "outputId": "c4271453-621c-4658-ed27-915480da080c",
        "colab": {
          "base_uri": "https://localhost:8080/",
          "height": 71
        }
      },
      "source": [
        "correct = 0\n",
        "total = 0\n",
        "with torch.no_grad():\n",
        "    for data in testloader:\n",
        "        images, labels = data[0].to(device),data[1].to(device)\n",
        "        outputs = net(images)\n",
        "        _, predicted = torch.max(outputs.data, 1)\n",
        "        total += labels.size(0)\n",
        "        correct += (predicted == labels).sum().item()\n",
        "\n",
        "print('Accuracy of the network on the 10000 test images: %d %%' % (\n",
        "    100 * correct / total))"
      ],
      "execution_count": 56,
      "outputs": [
        {
          "output_type": "stream",
          "text": [
            "/usr/local/lib/python3.6/dist-packages/ipykernel_launcher.py:66: UserWarning: Implicit dimension choice for log_softmax has been deprecated. Change the call to include dim=X as an argument.\n"
          ],
          "name": "stderr"
        },
        {
          "output_type": "stream",
          "text": [
            "Accuracy of the network on the 10000 test images: 79 %\n"
          ],
          "name": "stdout"
        }
      ]
    },
    {
      "cell_type": "markdown",
      "metadata": {
        "id": "eDdwPBl8poDF",
        "colab_type": "text"
      },
      "source": [
        "That looks waaay better than chance, which is 10% accuracy (randomly picking\n",
        "a class out of 10 classes).\n",
        "Seems like the network learnt something.\n",
        "\n",
        "Hmmm, what are the classes that performed well, and the classes that did\n",
        "not perform well:\n",
        "\n"
      ]
    },
    {
      "cell_type": "code",
      "metadata": {
        "id": "pDNFuDEDpoDG",
        "colab_type": "code",
        "colab": {}
      },
      "source": [
        "class_correct = list(0. for i in range(10))\n",
        "class_total = list(0. for i in range(10))\n",
        "with torch.no_grad():\n",
        "    for data in testloader:\n",
        "        images, labels = data\n",
        "        outputs = net(images)\n",
        "        _, predicted = torch.max(outputs, 1)\n",
        "        c = (predicted == labels).squeeze()\n",
        "        for i in range(4):\n",
        "            label = labels[i]\n",
        "            class_correct[label] += c[i].item()\n",
        "            class_total[label] += 1\n",
        "\n",
        "\n",
        "for i in range(10):\n",
        "    print('Accuracy of %5s : %2d %%' % (\n",
        "        classes[i], 100 * class_correct[i] / class_total[i]))"
      ],
      "execution_count": 0,
      "outputs": []
    },
    {
      "cell_type": "code",
      "metadata": {
        "id": "ZT3TcmuuVujG",
        "colab_type": "code",
        "colab": {}
      },
      "source": [
        ""
      ],
      "execution_count": 0,
      "outputs": []
    }
  ]
}